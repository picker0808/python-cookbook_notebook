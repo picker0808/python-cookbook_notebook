{
 "cells": [
  {
   "cell_type": "markdown",
   "metadata": {},
   "source": [
    "# 字符串和文本处理"
   ]
  },
  {
   "cell_type": "markdown",
   "metadata": {},
   "source": [
    "## 正则表达式剥夺组号分配"
   ]
  },
  {
   "cell_type": "markdown",
   "metadata": {},
   "source": [
    "(?:exp) : A non-capturing version of regular parentheses. Matches whatever regular expression is inside the parentheses, but the substring matched by the group cannot be retrieved after performing a match or referenced later in the pattern.\n",
    "\n",
    "匹配exp,不捕获匹配的文本，也不给此分组分配组号"
   ]
  },
  {
   "cell_type": "code",
   "execution_count": 1,
   "metadata": {
    "ExecuteTime": {
     "end_time": "2018-09-22T06:04:35.879822Z",
     "start_time": "2018-09-22T06:04:35.832960Z"
    }
   },
   "outputs": [
    {
     "data": {
      "text/plain": [
       "['this is a\\nmultiline comment']"
      ]
     },
     "execution_count": 1,
     "metadata": {},
     "output_type": "execute_result"
    }
   ],
   "source": [
    "import re\n",
    "\n",
    "text2 = '''/*this is a\n",
    "multiline comment*/\n",
    "'''\n",
    "\n",
    "re.findall(r'/\\*((?:.|\\n)*?)\\*/',text2)\n",
    "\n"
   ]
  },
  {
   "cell_type": "markdown",
   "metadata": {},
   "source": [
    "## strip()方法"
   ]
  },
  {
   "cell_type": "code",
   "execution_count": 2,
   "metadata": {
    "ExecuteTime": {
     "end_time": "2018-09-22T06:04:35.911063Z",
     "start_time": "2018-09-22T06:04:35.879822Z"
    }
   },
   "outputs": [
    {
     "name": "stdout",
     "output_type": "stream",
     "text": [
      "hello world\n",
      "hello world \n",
      "\n",
      " hello world\n",
      "hello=====\n",
      "hello\n"
     ]
    }
   ],
   "source": [
    "s = ' hello world \\n'\n",
    "\n",
    "print(s.strip())\n",
    "\n",
    "print(s.lstrip())\n",
    "\n",
    "print(s.rstrip())\n",
    "\n",
    "t = '-----hello====='\n",
    "\n",
    "print(t.lstrip('-'))\n",
    "\n",
    "print(t.strip('-='))"
   ]
  },
  {
   "cell_type": "markdown",
   "metadata": {
    "ExecuteTime": {
     "end_time": "2018-09-21T15:05:08.281233Z",
     "start_time": "2018-09-21T15:05:08.250026Z"
    }
   },
   "source": [
    "## format函数及方法"
   ]
  },
  {
   "cell_type": "markdown",
   "metadata": {},
   "source": [
    "对于format()函数，不需要使用' : '来指定填充符，直接使用填充符、对齐、宽度、类型即可。"
   ]
  },
  {
   "cell_type": "code",
   "execution_count": 3,
   "metadata": {
    "ExecuteTime": {
     "end_time": "2018-09-22T06:04:35.926693Z",
     "start_time": "2018-09-22T06:04:35.911063Z"
    },
    "scrolled": true
   },
   "outputs": [
    {
     "name": "stdout",
     "output_type": "stream",
     "text": [
      "         Hello World\n",
      "****Hello World*****\n",
      "Hello World         \n"
     ]
    }
   ],
   "source": [
    "text = 'Hello World'\n",
    "print(format(text, '>20s'))\n",
    "print(format(text, '*^20s'))\n",
    "print(format(text, '<20s'))"
   ]
  },
  {
   "cell_type": "markdown",
   "metadata": {},
   "source": [
    "对于.format()方法来说，则需要在填充符前使用' : '，之后使用填充符、对齐、宽度、类型。"
   ]
  },
  {
   "cell_type": "code",
   "execution_count": 4,
   "metadata": {
    "ExecuteTime": {
     "end_time": "2018-09-22T06:04:35.942308Z",
     "start_time": "2018-09-22T06:04:35.926693Z"
    }
   },
   "outputs": [
    {
     "data": {
      "text/plain": [
       "'*********hello,world!*********'"
      ]
     },
     "execution_count": 4,
     "metadata": {},
     "output_type": "execute_result"
    }
   ],
   "source": [
    "'{:*^30s}'.format('hello,world!')"
   ]
  },
  {
   "cell_type": "code",
   "execution_count": 5,
   "metadata": {
    "ExecuteTime": {
     "end_time": "2018-09-22T06:04:35.973553Z",
     "start_time": "2018-09-22T06:04:35.942308Z"
    },
    "scrolled": true
   },
   "outputs": [
    {
     "data": {
      "text/plain": [
       "'___________3.140000___________'"
      ]
     },
     "execution_count": 5,
     "metadata": {},
     "output_type": "execute_result"
    }
   ],
   "source": [
    "'{:_^30f}'.format(3.14)"
   ]
  },
  {
   "cell_type": "markdown",
   "metadata": {},
   "source": [
    "## 字符串连接"
   ]
  },
  {
   "cell_type": "markdown",
   "metadata": {},
   "source": [
    "对于简单字符串的拼接，只需要将其放在一起，而不必使用'+'号。"
   ]
  },
  {
   "cell_type": "code",
   "execution_count": 6,
   "metadata": {
    "ExecuteTime": {
     "end_time": "2018-09-22T06:04:35.989172Z",
     "start_time": "2018-09-22T06:04:35.973553Z"
    }
   },
   "outputs": [
    {
     "name": "stdout",
     "output_type": "stream",
     "text": [
      "helloworld!\n",
      "hello,world!sunny!\n"
     ]
    }
   ],
   "source": [
    "a = 'hello'    'world!'\n",
    "b = 'hello,''world!''sunny!'\n",
    "print(a)\n",
    "print(b)"
   ]
  },
  {
   "cell_type": "markdown",
   "metadata": {
    "ExecuteTime": {
     "end_time": "2018-09-21T15:44:27.585704Z",
     "start_time": "2018-09-21T15:44:27.570084Z"
    }
   },
   "source": [
    "使用.join()方法可以对各种类型的数据序列进行连接。"
   ]
  },
  {
   "cell_type": "code",
   "execution_count": 7,
   "metadata": {
    "ExecuteTime": {
     "end_time": "2018-09-22T06:04:36.004793Z",
     "start_time": "2018-09-22T06:04:35.989172Z"
    }
   },
   "outputs": [
    {
     "name": "stdout",
     "output_type": "stream",
     "text": [
      "1234\n",
      "1234\n",
      "1342\n",
      "1234\n",
      "1234\n"
     ]
    }
   ],
   "source": [
    "a = ['1','2','3','4']                # 列表\n",
    "b = ('1','2','3','4')                # 元组\n",
    "c = {'1','2','3','4'}                # 集合\n",
    "d = {'1':1,'2':2,'3':3,'4':4}        # 字典（只对键进行连接）\n",
    "e = [i for i in '1234']              # 推导式\n",
    "print(''.join(a))\n",
    "print(''.join(b))\n",
    "print(''.join(c))\n",
    "print(''.join(d))\n",
    "print(''.join(e))"
   ]
  },
  {
   "cell_type": "markdown",
   "metadata": {},
   "source": [
    "注意：当字符串数量很大时，不要用下面的方法进行连接："
   ]
  },
  {
   "cell_type": "markdown",
   "metadata": {
    "ExecuteTime": {
     "end_time": "2018-09-22T06:03:45.657188Z",
     "start_time": "2018-09-22T06:03:45.251034Z"
    }
   },
   "source": [
    "```python\n",
    "s = ''\n",
    "for p in parts:\n",
    "    s += p\n",
    "```"
   ]
  },
  {
   "cell_type": "markdown",
   "metadata": {},
   "source": [
    "因为每一次执行 += 操作，都会重新生成一个新的字符串对象，将会导致内存占用、垃圾回收操作。\n",
    "\n",
    "__使用.join()方法速度更快。__"
   ]
  },
  {
   "cell_type": "code",
   "execution_count": 8,
   "metadata": {
    "ExecuteTime": {
     "end_time": "2018-09-22T06:04:36.020415Z",
     "start_time": "2018-09-22T06:04:36.004793Z"
    }
   },
   "outputs": [
    {
     "data": {
      "text/plain": [
       "'ACME,50,91.1'"
      ]
     },
     "execution_count": 8,
     "metadata": {},
     "output_type": "execute_result"
    }
   ],
   "source": [
    "data = ['ACME', 50, 91.1]\n",
    "','.join(str(d) for d in data)"
   ]
  },
  {
   "cell_type": "markdown",
   "metadata": {},
   "source": [
    "在执行print()操作时，有如下技巧："
   ]
  },
  {
   "cell_type": "code",
   "execution_count": 9,
   "metadata": {
    "ExecuteTime": {
     "end_time": "2018-09-22T06:04:36.036036Z",
     "start_time": "2018-09-22T06:04:36.020415Z"
    }
   },
   "outputs": [
    {
     "name": "stdout",
     "output_type": "stream",
     "text": [
      "Is Chicago:Not Chicago?:No,it isn't\n",
      "Is Chicago:Not Chicago?:No,it isn't\n",
      "Is Chicago:Not Chicago?:No,it isn't\n"
     ]
    }
   ],
   "source": [
    "a = 'Is Chicago'\n",
    "b = 'Not Chicago?'\n",
    "c = 'No,it isn\\'t'\n",
    "print(a + ':' + b + ':' + c) # Ugly\n",
    "print(':'.join([a, b, c])) # Still ugly\n",
    "print(a, b, c, sep=':') # Better"
   ]
  },
  {
   "cell_type": "markdown",
   "metadata": {},
   "source": [
    "如果准备编写构建大量小字符串的输出代码，考虑使用生成器函数，利用yield语句产生输出片段。提高程序效率。"
   ]
  },
  {
   "cell_type": "code",
   "execution_count": 10,
   "metadata": {
    "ExecuteTime": {
     "end_time": "2018-09-22T06:04:36.051656Z",
     "start_time": "2018-09-22T06:04:36.036036Z"
    },
    "scrolled": true
   },
   "outputs": [
    {
     "name": "stdout",
     "output_type": "stream",
     "text": [
      "Is Chicago Not Chicago?\n"
     ]
    }
   ],
   "source": [
    "def sample():\n",
    "    yield 'Is'\n",
    "    yield 'Chicago'\n",
    "    yield 'Not'\n",
    "    yield 'Chicago?'\n",
    "\n",
    "print(' '.join(sample()))"
   ]
  },
  {
   "cell_type": "markdown",
   "metadata": {},
   "source": [
    "## 字符串中插入变量"
   ]
  },
  {
   "cell_type": "markdown",
   "metadata": {},
   "source": [
    "创建一个内嵌变量的字符串，变量被它的值所表示的字符串替换掉。"
   ]
  },
  {
   "cell_type": "code",
   "execution_count": 11,
   "metadata": {
    "ExecuteTime": {
     "end_time": "2018-09-22T06:04:36.067277Z",
     "start_time": "2018-09-22T06:04:36.051656Z"
    }
   },
   "outputs": [
    {
     "data": {
      "text/plain": [
       "'____________Guido_____________ has __________37.000000___________ messages.'"
      ]
     },
     "execution_count": 11,
     "metadata": {},
     "output_type": "execute_result"
    }
   ],
   "source": [
    "s = '{name:_^30s} has {n:_^30f} messages.'\n",
    "s.format(name='Guido', n=37)"
   ]
  },
  {
   "cell_type": "markdown",
   "metadata": {},
   "source": [
    "如果要被替换的变量能在变量域中找到，那么可以结合使用 format_map() 和 vars() 。"
   ]
  },
  {
   "cell_type": "code",
   "execution_count": 12,
   "metadata": {
    "ExecuteTime": {
     "end_time": "2018-09-22T06:04:36.098521Z",
     "start_time": "2018-09-22T06:04:36.067277Z"
    },
    "scrolled": true
   },
   "outputs": [
    {
     "data": {
      "text/plain": [
       "'____________Guido_____________ has __________37.000000___________ messages.'"
      ]
     },
     "execution_count": 12,
     "metadata": {},
     "output_type": "execute_result"
    }
   ],
   "source": [
    "name = 'Guido'\n",
    "n = 37\n",
    "s.format_map(vars())"
   ]
  },
  {
   "cell_type": "markdown",
   "metadata": {},
   "source": [
    "## 以指定列宽格式化字符串"
   ]
  },
  {
   "cell_type": "markdown",
   "metadata": {},
   "source": [
    "使用```textwrap```模块:"
   ]
  },
  {
   "cell_type": "code",
   "execution_count": 13,
   "metadata": {
    "ExecuteTime": {
     "end_time": "2018-09-22T06:04:36.114142Z",
     "start_time": "2018-09-22T06:04:36.098521Z"
    },
    "scrolled": false
   },
   "outputs": [
    {
     "name": "stdout",
     "output_type": "stream",
     "text": [
      "Look into my eyes, look into my eyes, the eyes, the eyes, the eyes,\n",
      "not around the eyes, don't look around the eyes, look into my eyes,\n",
      "you're under.\n",
      "-----------------------------------------------------------------\n",
      "    Look into my eyes, look into my\n",
      "eyes, the eyes, the eyes, the eyes, not\n",
      "around the eyes, don't look around the\n",
      "eyes, look into my eyes, you're under.\n",
      "-----------------------------------------------------------------\n",
      "Look into my eyes, look into my eyes,\n",
      "    the eyes, the eyes, the eyes, not\n",
      "    around the eyes, don't look around\n",
      "    the eyes, look into my eyes, you're\n",
      "    under.\n"
     ]
    }
   ],
   "source": [
    "s = \"Look into my eyes, look into my eyes, the eyes, the eyes, \\\n",
    "the eyes, not around the eyes, don't look around the eyes, \\\n",
    "look into my eyes, you're under.\"\n",
    "\n",
    "import textwrap\n",
    "print(textwrap.fill(s, 70))\n",
    "print('-----------------------------------------------------------------')\n",
    "print(textwrap.fill(s, 40, initial_indent='    '))\n",
    "print('-----------------------------------------------------------------')\n",
    "print(textwrap.fill(s, 40, subsequent_indent='    '))"
   ]
  },
  {
   "cell_type": "markdown",
   "metadata": {
    "ExecuteTime": {
     "end_time": "2018-09-21T17:06:00.395649Z",
     "start_time": "2018-09-21T17:06:00.380028Z"
    }
   },
   "source": [
    "当希望使文本的输出匹配终端的大小时，可以使用os库得到终端的大小，然后是由textwrap的fill()函数进行文本格式化。"
   ]
  },
  {
   "cell_type": "code",
   "execution_count": 14,
   "metadata": {
    "ExecuteTime": {
     "end_time": "2018-09-22T06:04:36.145386Z",
     "start_time": "2018-09-22T06:04:36.114142Z"
    },
    "scrolled": true
   },
   "outputs": [
    {
     "data": {
      "text/plain": [
       "os.terminal_size(columns=120, lines=30)"
      ]
     },
     "execution_count": 14,
     "metadata": {},
     "output_type": "execute_result"
    }
   ],
   "source": [
    "import os\n",
    "os.get_terminal_size()"
   ]
  },
  {
   "cell_type": "markdown",
   "metadata": {},
   "source": [
    "## 文本字符串(string)和字节字符串(byte)"
   ]
  },
  {
   "cell_type": "markdown",
   "metadata": {
    "ExecuteTime": {
     "end_time": "2018-09-22T05:04:33.811358Z",
     "start_time": "2018-09-22T05:04:33.795737Z"
    }
   },
   "source": [
    "Python3中内置类型bytes和str的用法及<class 'byte'>和<class 'string'>之间的各种编码转换。\n",
    "\n",
    "Python 3最重要的新特性大概要算是对文本和二进制数据作了更为清晰的区分。文本总是Unicode，由str类型表示，二进制数据则由bytes类型表示。Python 3不会以任意隐式的方式混用str和bytes，这使得两者的区分特别清晰。你不能拼接字符串和字节包，也无法在字节包里搜索字符串（反之亦然），也不能将字符串传入参数为字节包的函数（反之亦然）."
   ]
  },
  {
   "cell_type": "markdown",
   "metadata": {},
   "source": [
    "大多数情况下，在文本字符串上的操作均可用于字节字符串。但也有一些不同的地方。"
   ]
  },
  {
   "cell_type": "code",
   "execution_count": 15,
   "metadata": {
    "ExecuteTime": {
     "end_time": "2018-09-22T06:04:36.161018Z",
     "start_time": "2018-09-22T06:04:36.145386Z"
    },
    "scrolled": true
   },
   "outputs": [
    {
     "name": "stdout",
     "output_type": "stream",
     "text": [
      "72\n",
      "Hello World\n"
     ]
    }
   ],
   "source": [
    "b = b'Hello World'\n",
    "\n",
    "print(b[0])        # 返回数字而不是字符\n",
    "\n",
    "print(b.decode())"
   ]
  },
  {
   "cell_type": "markdown",
   "metadata": {},
   "source": [
    "也不存在任何适用于字节字符串的格式化操作"
   ]
  },
  {
   "cell_type": "code",
   "execution_count": 16,
   "metadata": {
    "ExecuteTime": {
     "end_time": "2018-09-22T06:04:36.535921Z",
     "start_time": "2018-09-22T06:04:36.161018Z"
    },
    "scrolled": false
   },
   "outputs": [
    {
     "ename": "AttributeError",
     "evalue": "'bytes' object has no attribute 'format'",
     "output_type": "error",
     "traceback": [
      "\u001b[1;31m---------------------------------------------------------------------------\u001b[0m",
      "\u001b[1;31mAttributeError\u001b[0m                            Traceback (most recent call last)",
      "\u001b[1;32m<ipython-input-16-3611a4819462>\u001b[0m in \u001b[0;36m<module>\u001b[1;34m()\u001b[0m\n\u001b[1;32m----> 1\u001b[1;33m \u001b[1;34mb'{} {} {}'\u001b[0m\u001b[1;33m.\u001b[0m\u001b[0mformat\u001b[0m\u001b[1;33m(\u001b[0m\u001b[1;34mb'ACME'\u001b[0m\u001b[1;33m,\u001b[0m \u001b[1;36m100\u001b[0m\u001b[1;33m,\u001b[0m \u001b[1;36m490.1\u001b[0m\u001b[1;33m)\u001b[0m\u001b[1;33m\u001b[0m\u001b[0m\n\u001b[0m",
      "\u001b[1;31mAttributeError\u001b[0m: 'bytes' object has no attribute 'format'"
     ]
    }
   ],
   "source": [
    "b'{} {} {}'.format(b'ACME', 100, 490.1)"
   ]
  },
  {
   "cell_type": "markdown",
   "metadata": {},
   "source": [
    "如果想格式化字节字符串，得先使用标准的文本字符串，然后将其编码为字节字符串。"
   ]
  },
  {
   "cell_type": "code",
   "execution_count": 17,
   "metadata": {
    "ExecuteTime": {
     "end_time": "2018-09-22T06:04:54.156798Z",
     "start_time": "2018-09-22T06:04:54.125556Z"
    }
   },
   "outputs": [
    {
     "data": {
      "text/plain": [
       "b'   ACME       100       490.10  '"
      ]
     },
     "execution_count": 17,
     "metadata": {},
     "output_type": "execute_result"
    }
   ],
   "source": [
    "'{:^10s} {:^10d} {:^10.2f}'.format('ACME', 100, 490.1).encode('ascii')"
   ]
  },
  {
   "cell_type": "markdown",
   "metadata": {},
   "source": [
    "在给os.listdir传递目录参数时，使用字节字符串，也能得到相应的字节子目录名。"
   ]
  },
  {
   "cell_type": "code",
   "execution_count": 18,
   "metadata": {
    "ExecuteTime": {
     "end_time": "2018-09-22T06:04:56.031360Z",
     "start_time": "2018-09-22T06:04:56.015742Z"
    }
   },
   "outputs": [
    {
     "data": {
      "text/plain": [
       "[b'Code_Wars',\n",
       " b'GitHub_Repository',\n",
       " b'GUI_Programing',\n",
       " b'Jupyter_Workspace',\n",
       " b'Others',\n",
       " b'Python_Docx',\n",
       " b'Stock_Analysis',\n",
       " b'Upgrade_All_Packages',\n",
       " b'VBA',\n",
       " b'\\xe6\\xa3\\x80\\xe6\\xb5\\x8b\\xe6\\x8a\\xa5\\xe5\\x91\\x8a\\xe5\\x8d\\x8a\\xe8\\x87\\xaa\\xe5\\x8a\\xa8\\xe5\\x8c\\x96\\xe7\\xa8\\x8b\\xe5\\xba\\x8fV0.1']"
      ]
     },
     "execution_count": 18,
     "metadata": {},
     "output_type": "execute_result"
    }
   ],
   "source": [
    "import os \n",
    "os.listdir(b'D:/PythonWorkSpace/')"
   ]
  }
 ],
 "metadata": {
  "kernelspec": {
   "display_name": "Python 3",
   "language": "python",
   "name": "python3"
  },
  "toc": {
   "base_numbering": 1,
   "nav_menu": {},
   "number_sections": true,
   "sideBar": true,
   "skip_h1_title": true,
   "title_cell": "Table of Contents",
   "title_sidebar": "Contents",
   "toc_cell": false,
   "toc_position": {
    "height": "100px",
    "left": "660.333px",
    "top": "0px",
    "width": "196.667px"
   },
   "toc_section_display": true,
   "toc_window_display": true
  },
  "varInspector": {
   "cols": {
    "lenName": 16,
    "lenType": 16,
    "lenVar": 40
   },
   "kernels_config": {
    "python": {
     "delete_cmd_postfix": "",
     "delete_cmd_prefix": "del ",
     "library": "var_list.py",
     "varRefreshCmd": "print(var_dic_list())"
    },
    "r": {
     "delete_cmd_postfix": ") ",
     "delete_cmd_prefix": "rm(",
     "library": "var_list.r",
     "varRefreshCmd": "cat(var_dic_list()) "
    }
   },
   "types_to_exclude": [
    "module",
    "function",
    "builtin_function_or_method",
    "instance",
    "_Feature"
   ],
   "window_display": false
  }
 },
 "nbformat": 4,
 "nbformat_minor": 2
}
