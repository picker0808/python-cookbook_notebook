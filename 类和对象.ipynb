{
 "cells": [
  {
   "cell_type": "code",
   "execution_count": 4,
   "metadata": {
    "ExecuteTime": {
     "end_time": "2018-09-22T16:03:15.210586Z",
     "start_time": "2018-09-22T16:03:15.179345Z"
    }
   },
   "outputs": [
    {
     "name": "stdout",
     "output_type": "stream",
     "text": [
      "python\n",
      "python and django\n"
     ]
    }
   ],
   "source": [
    "class Book(object): \n",
    "    def __init__(self, title): \n",
    "        self.title = title \n",
    "        \n",
    "    @classmethod \n",
    "    def create(cls, title): \n",
    "        book = cls(title) \n",
    "        return book \n",
    "\n",
    "book1 = Book(\"python\") \n",
    "book2 = Book.create(\"python and django\") \n",
    "print(book1.title) \n",
    "print(book2.title)\n"
   ]
  },
  {
   "cell_type": "code",
   "execution_count": 8,
   "metadata": {
    "ExecuteTime": {
     "end_time": "2018-09-22T16:21:49.814716Z",
     "start_time": "2018-09-22T16:21:49.799095Z"
    }
   },
   "outputs": [
    {
     "name": "stdout",
     "output_type": "stream",
     "text": [
      "MIMI本次的考评为：100\n",
      "不能给猫打负分\n"
     ]
    }
   ],
   "source": [
    "class MyCat():\n",
    "    def __init__(self,name):\n",
    "        self.name = name\n",
    "    \n",
    "    def marking(self,score):\n",
    "        if score < 0:\n",
    "            return '不能给猫打负分'\n",
    "        # 私有变量\n",
    "        self.__score = score\n",
    "        print(self.name +'本次的考评为：'+str(self.__score))\n",
    " \n",
    "    # 私有方法在方法前加__\n",
    "    def __marking1(self,score):\n",
    "        if score < 0:\n",
    "            return '不能给猫打负分'\n",
    "        self.score = score\n",
    "        print(self.name +'本次的考评为：'+str(self.score))\n",
    "        \n",
    "    def test(self):\n",
    "        if self.__score > 0:\n",
    "            print('打分大于0')\n",
    " \n",
    "cat = MyCat('MIMI')\n",
    "cat.marking(100)\n",
    "print(cat.marking(-1))\n",
    "cat."
   ]
  }
 ],
 "metadata": {
  "kernelspec": {
   "display_name": "Python 3",
   "language": "python",
   "name": "python3"
  },
  "language_info": {
   "codemirror_mode": {
    "name": "ipython",
    "version": 3
   },
   "file_extension": ".py",
   "mimetype": "text/x-python",
   "name": "python",
   "nbconvert_exporter": "python",
   "pygments_lexer": "ipython3",
   "version": "3.6.5"
  },
  "toc": {
   "base_numbering": 1,
   "nav_menu": {},
   "number_sections": true,
   "sideBar": true,
   "skip_h1_title": false,
   "title_cell": "Table of Contents",
   "title_sidebar": "Contents",
   "toc_cell": false,
   "toc_position": {},
   "toc_section_display": true,
   "toc_window_display": false
  },
  "varInspector": {
   "cols": {
    "lenName": 16,
    "lenType": 16,
    "lenVar": 40
   },
   "kernels_config": {
    "python": {
     "delete_cmd_postfix": "",
     "delete_cmd_prefix": "del ",
     "library": "var_list.py",
     "varRefreshCmd": "print(var_dic_list())"
    },
    "r": {
     "delete_cmd_postfix": ") ",
     "delete_cmd_prefix": "rm(",
     "library": "var_list.r",
     "varRefreshCmd": "cat(var_dic_list()) "
    }
   },
   "types_to_exclude": [
    "module",
    "function",
    "builtin_function_or_method",
    "instance",
    "_Feature"
   ],
   "window_display": false
  }
 },
 "nbformat": 4,
 "nbformat_minor": 2
}
